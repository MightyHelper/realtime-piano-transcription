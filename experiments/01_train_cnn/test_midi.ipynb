{
 "cells": [
  {
   "metadata": {},
   "cell_type": "code",
   "source": [
    "%load_ext autoreload\n",
    "%autoreload 2"
   ],
   "id": "f8eff119a6dcc183",
   "outputs": [],
   "execution_count": null
  },
  {
   "cell_type": "code",
   "id": "initial_id",
   "metadata": {
    "collapsed": true
   },
   "source": [
    "import mir_eval.transcription\n",
    "from model import get_model\n",
    "\n",
    "from src.common import MaestroSplitType, MidiWrapper, TimeKeeper\n",
    "from src.maestro2 import MaestroDatasetSplit"
   ],
   "outputs": [],
   "execution_count": null
  },
  {
   "metadata": {},
   "cell_type": "code",
   "source": "dataset = MaestroDatasetSplit(MaestroSplitType.VALIDATION)",
   "id": "99c7bffc7913be6b",
   "outputs": [],
   "execution_count": null
  },
  {
   "metadata": {},
   "cell_type": "code",
   "source": [
    "entry = dataset.split.entries[1]\n",
    "start_ms = 1000.0\n",
    "end_ms = 15000.0"
   ],
   "id": "175f7b4af892f846",
   "outputs": [],
   "execution_count": null
  },
  {
   "metadata": {},
   "cell_type": "code",
   "source": "",
   "id": "28b9221402eaaf8a",
   "outputs": [],
   "execution_count": null
  },
  {
   "metadata": {},
   "cell_type": "code",
   "source": "mel = entry.load_audio.compute_log_mel_spectrogram()",
   "id": "da62c07d4a6105e4",
   "outputs": [],
   "execution_count": null
  },
  {
   "metadata": {},
   "cell_type": "code",
   "source": "",
   "id": "966942f10a58736",
   "outputs": [],
   "execution_count": null
  },
  {
   "metadata": {},
   "cell_type": "code",
   "source": [
    "from torch import tensor\n",
    "\n",
    "mel_part = mel[:, TimeKeeper.ms_to_frames(start_ms):TimeKeeper.ms_to_frames(end_ms)]\n",
    "mel_t = tensor(mel_part).unsqueeze(0).unsqueeze(0).to('cuda')"
   ],
   "id": "31b89f63d376dc2e",
   "outputs": [],
   "execution_count": null
  },
  {
   "metadata": {},
   "cell_type": "code",
   "source": "model = get_model(21, 'cuda')",
   "id": "7a06d76b01d46f65",
   "outputs": [],
   "execution_count": null
  },
  {
   "metadata": {},
   "cell_type": "code",
   "source": "result_t = model.forward(mel_t[:, :, :21, :])",
   "id": "f7b95580c07d4169",
   "outputs": [],
   "execution_count": null
  },
  {
   "metadata": {},
   "cell_type": "code",
   "source": "",
   "id": "d89447beab37ab78",
   "outputs": [],
   "execution_count": null
  },
  {
   "metadata": {},
   "cell_type": "code",
   "source": "from matplotlib import pyplot as plt",
   "id": "371a6151da252b1e",
   "outputs": [],
   "execution_count": null
  },
  {
   "metadata": {},
   "cell_type": "code",
   "source": [
    "entry.load_audio.display_ipython(start_ms / 1000., end_ms / 1000.)\n",
    "entry.load_midi.plot_piano_roll_chunk(start_ms / 1000., end_ms / 1000.)\n",
    "plt.figure(figsize=(int(end_ms - start_ms) / 1000, 8))\n",
    "plt.imshow((mel_t[0, 0, :, :] > 3).detach().cpu(), cmap='gray', aspect='auto', origin='lower', interpolation='none')\n",
    "plt.xlabel('Time')\n",
    "plt.ylabel('Mel bin')\n",
    "plt.colorbar()\n",
    "None"
   ],
   "id": "fe47f2eeda0d9289",
   "outputs": [],
   "execution_count": null
  },
  {
   "metadata": {},
   "cell_type": "code",
   "source": [
    "from src.common import MidiWrapper\n",
    "midiw = MidiWrapper.from_piano_roll(mel_t[0, 0, :, :].cpu().detach().numpy(), on_threshold=2)"
   ],
   "id": "4e3c598d0c237e2f",
   "outputs": [],
   "execution_count": null
  },
  {
   "metadata": {},
   "cell_type": "code",
   "source": "mel_t[0, 0, :128, :].cpu().detach().numpy().shape",
   "id": "7f0c8ebd4e11a483",
   "outputs": [],
   "execution_count": null
  },
  {
   "metadata": {},
   "cell_type": "code",
   "source": "midiw.plot_piano_roll()",
   "id": "b9f97b6b184e13c4",
   "outputs": [],
   "execution_count": null
  },
  {
   "metadata": {},
   "cell_type": "code",
   "source": [
    "import numpy as np\n",
    "\n",
    "np.any(midiw.midi.get_piano_roll() > 0)"
   ],
   "id": "e6dbde802c10de4",
   "outputs": [],
   "execution_count": null
  },
  {
   "metadata": {},
   "cell_type": "code",
   "source": "midiw.midi.instruments[0].notes",
   "id": "e0ffdfa367e02b5c",
   "outputs": [],
   "execution_count": null
  },
  {
   "metadata": {},
   "cell_type": "code",
   "source": [
    "roll2 = dataset.split.entries[0].load_midi.get_piano_roll()[:, 1000:1100]\n",
    "roll2"
   ],
   "id": "6fd6b414a5674593",
   "outputs": [],
   "execution_count": null
  },
  {
   "metadata": {},
   "cell_type": "code",
   "source": "midiw = MidiWrapper.from_piano_roll(roll2, on_threshold=0.502)\n",
   "id": "ebd0d548250a25df",
   "outputs": [],
   "execution_count": null
  },
  {
   "metadata": {},
   "cell_type": "code",
   "source": "midiw.plot_piano_roll()",
   "id": "b472cc015c7beb8a",
   "outputs": [],
   "execution_count": null
  }
 ],
 "metadata": {
  "kernelspec": {
   "display_name": "Python 3",
   "language": "python",
   "name": "python3"
  },
  "language_info": {
   "codemirror_mode": {
    "name": "ipython",
    "version": 2
   },
   "file_extension": ".py",
   "mimetype": "text/x-python",
   "name": "python",
   "nbconvert_exporter": "python",
   "pygments_lexer": "ipython2",
   "version": "2.7.6"
  }
 },
 "nbformat": 4,
 "nbformat_minor": 5
}
