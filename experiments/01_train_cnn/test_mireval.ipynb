{
 "cells": [
  {
   "metadata": {
    "ExecuteTime": {
     "end_time": "2024-09-23T17:20:14.403129Z",
     "start_time": "2024-09-23T17:20:14.392258Z"
    }
   },
   "cell_type": "code",
   "source": [
    "%load_ext autoreload\n",
    "%autoreload 2"
   ],
   "id": "a79589605d41e235",
   "outputs": [],
   "execution_count": 1
  },
  {
   "cell_type": "code",
   "id": "initial_id",
   "metadata": {
    "collapsed": true,
    "ExecuteTime": {
     "end_time": "2024-09-23T17:20:16.703572Z",
     "start_time": "2024-09-23T17:20:14.452146Z"
    }
   },
   "source": [
    "from src.common import MaestroSplitType\n",
    "from src.maestro2 import MaestroDatasetSplit, FrameContextDataset, DynamicBatchIterableDataset2\n",
    "from model import get_model\n",
    "from torch.utils.data import DataLoader\n"
   ],
   "outputs": [],
   "execution_count": 2
  },
  {
   "metadata": {
    "ExecuteTime": {
     "end_time": "2024-09-23T17:20:22.105942Z",
     "start_time": "2024-09-23T17:20:16.903934Z"
    }
   },
   "cell_type": "code",
   "source": [
    "dataset = MaestroDatasetSplit(MaestroSplitType.TRAIN)\n",
    "dataset[0][0].shape"
   ],
   "id": "7b171bfe604ca4d3",
   "outputs": [
    {
     "data": {
      "text/plain": [
       "torch.Size([229, 22000])"
      ]
     },
     "execution_count": 3,
     "metadata": {},
     "output_type": "execute_result"
    }
   ],
   "execution_count": 3
  },
  {
   "metadata": {
    "ExecuteTime": {
     "end_time": "2024-09-23T17:20:22.196764Z",
     "start_time": "2024-09-23T17:20:22.176799Z"
    }
   },
   "cell_type": "code",
   "source": [
    "entry = dataset.split.entries[1]\n",
    "start_ms = 1000.0\n",
    "end_ms = 15000.0"
   ],
   "id": "b7a2fc4ef124f3e5",
   "outputs": [],
   "execution_count": 4
  },
  {
   "metadata": {
    "ExecuteTime": {
     "end_time": "2024-09-23T17:20:25.759088Z",
     "start_time": "2024-09-23T17:20:22.249276Z"
    }
   },
   "cell_type": "code",
   "source": [
    "mel = entry.load_audio.compute_log_mel_spectrogram()\n",
    "roll = entry.load_midi.get_piano_roll()\n",
    "mel.shape, roll.shape"
   ],
   "id": "cb5a7b87c6a5c7a8",
   "outputs": [
    {
     "data": {
      "text/plain": [
       "((229, 24475), (128, 23898))"
      ]
     },
     "execution_count": 5,
     "metadata": {},
     "output_type": "execute_result"
    }
   ],
   "execution_count": 5
  },
  {
   "metadata": {
    "ExecuteTime": {
     "end_time": "2024-09-23T17:20:25.858126Z",
     "start_time": "2024-09-23T17:20:25.836029Z"
    }
   },
   "cell_type": "code",
   "source": [
    "loader = FrameContextDataset(dataset, 64, 64)\n",
    "iterable_loader = DynamicBatchIterableDataset2(loader, 4)\n",
    "train_loader = DataLoader(iterable_loader, batch_size=1, shuffle=False, num_workers=0)"
   ],
   "id": "cfd16f35e06dbc2d",
   "outputs": [],
   "execution_count": 6
  },
  {
   "metadata": {
    "ExecuteTime": {
     "end_time": "2024-09-23T17:20:26.405178Z",
     "start_time": "2024-09-23T17:20:25.894326Z"
    }
   },
   "cell_type": "code",
   "source": "model = get_model(64, 'cuda')",
   "id": "7b7c8e8b69e1c997",
   "outputs": [],
   "execution_count": 7
  },
  {
   "metadata": {
    "ExecuteTime": {
     "end_time": "2024-09-23T17:20:28.122734Z",
     "start_time": "2024-09-23T17:20:26.422486Z"
    }
   },
   "cell_type": "code",
   "source": [
    "x, y = next(iter(train_loader))\n",
    "x = x.transpose(0, 1).cuda()\n",
    "y = y.transpose(0, 1).cuda()\n",
    "x.shape, y.shape"
   ],
   "id": "4d7592eb89dc2892",
   "outputs": [
    {
     "name": "stdout",
     "output_type": "stream",
     "text": [
      "Batch size: 21936\n"
     ]
    },
    {
     "data": {
      "text/plain": [
       "(torch.Size([4, 1, 229, 64]), torch.Size([4, 1, 128, 64]))"
      ]
     },
     "execution_count": 8,
     "metadata": {},
     "output_type": "execute_result"
    }
   ],
   "execution_count": 8
  },
  {
   "metadata": {
    "ExecuteTime": {
     "end_time": "2024-09-23T17:33:37.431485Z",
     "start_time": "2024-09-23T17:33:37.403976Z"
    }
   },
   "cell_type": "code",
   "source": [
    "y_ = model(x)\n",
    "y.squeeze(1).shape"
   ],
   "id": "4319b703f43cef39",
   "outputs": [],
   "execution_count": 10
  },
  {
   "metadata": {
    "ExecuteTime": {
     "end_time": "2024-09-23T17:33:47.873084Z",
     "start_time": "2024-09-23T17:33:47.851575Z"
    }
   },
   "cell_type": "code",
   "source": "",
   "id": "e2d6919159b2f9db",
   "outputs": [
    {
     "data": {
      "text/plain": [
       "torch.Size([4, 128, 64])"
      ]
     },
     "execution_count": 12,
     "metadata": {},
     "output_type": "execute_result"
    }
   ],
   "execution_count": 12
  },
  {
   "metadata": {
    "ExecuteTime": {
     "end_time": "2024-09-23T17:34:00.660203Z",
     "start_time": "2024-09-23T17:34:00.637944Z"
    }
   },
   "cell_type": "code",
   "source": "",
   "id": "4a1f5afac0f886b8",
   "outputs": [
    {
     "data": {
      "text/plain": [
       "torch.Size([4, 128, 64])"
      ]
     },
     "execution_count": 15,
     "metadata": {},
     "output_type": "execute_result"
    }
   ],
   "execution_count": 15
  }
 ],
 "metadata": {
  "kernelspec": {
   "display_name": "Python 3",
   "language": "python",
   "name": "python3"
  },
  "language_info": {
   "codemirror_mode": {
    "name": "ipython",
    "version": 2
   },
   "file_extension": ".py",
   "mimetype": "text/x-python",
   "name": "python",
   "nbconvert_exporter": "python",
   "pygments_lexer": "ipython2",
   "version": "2.7.6"
  }
 },
 "nbformat": 4,
 "nbformat_minor": 5
}
