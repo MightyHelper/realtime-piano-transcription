{
 "cells": [
  {
   "metadata": {},
   "cell_type": "code",
   "source": [
    "%load_ext autoreload\n",
    "%autoreload 2\n"
   ],
   "id": "a79589605d41e235",
   "outputs": [],
   "execution_count": null
  },
  {
   "cell_type": "code",
   "id": "initial_id",
   "metadata": {
    "collapsed": true
   },
   "source": [
    "import torch\n",
    "from tqdm.auto import tqdm\n",
    "from src.common import MaestroSplitType\n",
    "from torch.utils.data import DataLoader\n",
    "from src.maestro2 import MaestroDatasetSplit, FrameContextDataset, DynamicBatchIterableDataset2, custom_collate_fn\n",
    "from torch.nn import MSELoss, BCEWithLogitsLoss, CrossEntropyLoss\n",
    "\n"
   ],
   "outputs": [],
   "execution_count": null
  },
  {
   "metadata": {},
   "cell_type": "code",
   "source": [
    "dataset = MaestroDatasetSplit(MaestroSplitType.TRAIN)\n",
    "print(len(dataset.split.entries))"
   ],
   "id": "7b171bfe604ca4d3",
   "outputs": [],
   "execution_count": null
  },
  {
   "metadata": {},
   "cell_type": "code",
   "source": [
    "entry = dataset.split.entries[0]\n",
    "start_ms = 1000.0\n",
    "end_ms = 15000.0"
   ],
   "id": "b7a2fc4ef124f3e5",
   "outputs": [],
   "execution_count": null
  },
  {
   "metadata": {},
   "cell_type": "code",
   "source": [
    "mel = entry.load_audio.compute_log_mel_spectrogram()\n",
    "roll = entry.load_midi.get_piano_roll()\n",
    "mel.shape, roll.shape"
   ],
   "id": "cb5a7b87c6a5c7a8",
   "outputs": [],
   "execution_count": null
  },
  {
   "metadata": {},
   "cell_type": "code",
   "source": [
    "loader = FrameContextDataset(dataset, 64, 64)\n",
    "iterable_loader = DynamicBatchIterableDataset2(loader, 64)\n",
    "train_loader = DataLoader(\n",
    "    iterable_loader,\n",
    "    batch_size=1,  # Let the collate_fn handle the final batching\n",
    "    collate_fn=custom_collate_fn,\n",
    "    num_workers=2,\n",
    "    prefetch_factor=2,\n",
    "    multiprocessing_context='spawn',\n",
    "    pin_memory=True,\n",
    "    pin_memory_device='cuda',\n",
    ")"
   ],
   "id": "cfd16f35e06dbc2d",
   "outputs": [],
   "execution_count": null
  },
  {
   "metadata": {},
   "cell_type": "code",
   "source": [
    "from model import get_model2\n",
    "\n",
    "model = get_model2(64, 'cuda')\n",
    "# model.load_state_dict(torch.load('model2.pth', weights_only=True))\n",
    "model.eval()"
   ],
   "id": "7b7c8e8b69e1c997",
   "outputs": [],
   "execution_count": null
  },
  {
   "metadata": {},
   "cell_type": "code",
   "source": [
    "from src.maestro2 import custom_normalize_batch\n",
    "\n",
    "x, y = next(iter(train_loader))\n",
    "x, y = custom_normalize_batch(x, y)\n",
    "print(x.shape, y.shape)\n",
    "y_ = model.forward(x)\n",
    "print(y_.shape)"
   ],
   "id": "4d7592eb89dc2892",
   "outputs": [],
   "execution_count": null
  },
  {
   "metadata": {},
   "cell_type": "code",
   "source": "y_[0, 0].cpu().detach()",
   "id": "2319d527c637e259",
   "outputs": [],
   "execution_count": null
  },
  {
   "metadata": {},
   "cell_type": "code",
   "source": [
    "from src.maestro2 import LOWEST_MIDI_NOTE\n",
    "from src.common import MidiWrapper\n",
    "\n",
    "for i in range(64):\n",
    "    midiw = MidiWrapper.from_piano_roll(y_[i, 0].transpose(0,1).cpu().detach().numpy(), note_offset=LOWEST_MIDI_NOTE)\n",
    "    midiw.plot_piano_roll()"
   ],
   "id": "4319b703f43cef39",
   "outputs": [],
   "execution_count": null
  },
  {
   "metadata": {},
   "cell_type": "code",
   "source": "",
   "id": "e2d6919159b2f9db",
   "outputs": [],
   "execution_count": null
  },
  {
   "metadata": {},
   "cell_type": "code",
   "source": [
    "for i in range(64):\n",
    "    midiw2 = MidiWrapper.from_piano_roll(y[i, 0].transpose(0,1).cpu().detach().numpy(), note_offset=LOWEST_MIDI_NOTE)\n",
    "    midiw2.plot_piano_roll()"
   ],
   "id": "4a1f5afac0f886b8",
   "outputs": [],
   "execution_count": null
  },
  {
   "metadata": {},
   "cell_type": "code",
   "source": [
    "from matplotlib import pyplot as plt\n",
    "\n",
    "plt.imshow(x[0, 0].transpose(0,1).cpu().detach().numpy(), cmap='grey')"
   ],
   "id": "b59580288704b05e",
   "outputs": [],
   "execution_count": null
  },
  {
   "metadata": {},
   "cell_type": "code",
   "source": "entry.load_audio.display_ipython()",
   "id": "c2cac94356f9bd39",
   "outputs": [],
   "execution_count": null
  },
  {
   "metadata": {},
   "cell_type": "code",
   "source": [
    "import mir_eval\n",
    "import numpy as np\n",
    "def midi_to_hz(midi):\n",
    "    return 440.0 * 2.0**((midi - 69) / 12.0)\n",
    "\n",
    "pm1 = midiw.midi\n",
    "pm2 = midiw2.midi"
   ],
   "id": "4a36e0ef191600a1",
   "outputs": [],
   "execution_count": null
  },
  {
   "metadata": {},
   "cell_type": "code",
   "source": [
    "computed_mse = MSELoss()(y, y_)\n",
    "computed_mse.item()"
   ],
   "id": "2d6c647bfd2a43a7",
   "outputs": [],
   "execution_count": null
  },
  {
   "metadata": {},
   "cell_type": "code",
   "source": [
    "notes1 = [(note.start, note.end, midi_to_hz(note.pitch)) for note in pm1.instruments[0].notes]\n",
    "notes2 = [(note.start, note.end, midi_to_hz(note.pitch)) for note in pm2.instruments[0].notes]\n",
    "\n",
    "# Convert to the format required by mir_eval: intervals and pitches\n",
    "ref_intervals = np.array([[note[0], note[1]] for note in notes1])\n",
    "ref_pitches = np.array([note[2] for note in notes1])\n",
    "est_intervals = np.array([[note[0], note[1]] for note in notes2])\n",
    "est_pitches = np.array([note[2] for note in notes2])\n",
    "\n",
    "# Compute F1 score using mir_eval\n",
    "precision, recall, f1, _ = mir_eval.transcription.precision_recall_f1_overlap(\n",
    "    ref_intervals, ref_pitches, est_intervals, est_pitches\n",
    ")\n",
    "\n",
    "print(f\"Precision: {precision}, Recall: {recall}, F1 Score: {f1}\")"
   ],
   "id": "d030111ced9754fa",
   "outputs": [],
   "execution_count": null
  }
 ],
 "metadata": {
  "kernelspec": {
   "display_name": "Python 3",
   "language": "python",
   "name": "python3"
  },
  "language_info": {
   "codemirror_mode": {
    "name": "ipython",
    "version": 2
   },
   "file_extension": ".py",
   "mimetype": "text/x-python",
   "name": "python",
   "nbconvert_exporter": "python",
   "pygments_lexer": "ipython2",
   "version": "2.7.6"
  }
 },
 "nbformat": 4,
 "nbformat_minor": 5
}
