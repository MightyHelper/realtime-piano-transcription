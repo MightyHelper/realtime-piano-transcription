{
 "cells": [
  {
   "cell_type": "code",
   "id": "initial_id",
   "metadata": {
    "collapsed": true,
    "ExecuteTime": {
     "end_time": "2024-09-17T19:55:14.288201Z",
     "start_time": "2024-09-17T19:55:14.283784Z"
    }
   },
   "source": [
    "from torch.utils.data import IterableDataset, get_worker_info\n",
    "\n",
    "\n",
    "class TestDataset(IterableDataset):\n",
    "    def __init__(self, data):\n",
    "        self.data = data\n",
    "\n",
    "    def __iter__(self):\n",
    "        worker_info = get_worker_info()\n",
    "        if worker_info is None:  # Single-threaded loading\n",
    "            data_iter = iter(self.data)\n",
    "        else:  # Multi-threaded loading\n",
    "            # Split data based on worker ID\n",
    "            worker_id = worker_info.id\n",
    "            num_workers = worker_info.num_workers\n",
    "            # Split data evenly among workers\n",
    "            per_worker = len(self.data) // num_workers\n",
    "            start = worker_id * per_worker\n",
    "            end = start + per_worker if worker_id != num_workers - 1 else len(self.data)\n",
    "            data_iter = iter(self.data[start:end])\n",
    "        \n",
    "        return data_iter\n",
    "\n",
    "\n",
    "data = [*range(1000)]\n",
    "dataset = TestDataset(data)"
   ],
   "outputs": [],
   "execution_count": 21
  },
  {
   "metadata": {
    "ExecuteTime": {
     "end_time": "2024-09-17T19:57:27.085215Z",
     "start_time": "2024-09-17T19:57:27.050853Z"
    }
   },
   "cell_type": "code",
   "source": [
    "from torch.utils.data import DataLoader\n",
    "\n",
    "data_loader = DataLoader(dataset, batch_size=2, num_workers=0)\n",
    "len(list(data_loader)), len(data_loader)"
   ],
   "id": "f4e5dbbe308fb057",
   "outputs": [
    {
     "ename": "TypeError",
     "evalue": "object of type 'TestDataset' has no len()",
     "output_type": "error",
     "traceback": [
      "\u001B[0;31m---------------------------------------------------------------------------\u001B[0m",
      "\u001B[0;31mTypeError\u001B[0m                                 Traceback (most recent call last)",
      "Cell \u001B[0;32mIn[29], line 4\u001B[0m\n\u001B[1;32m      1\u001B[0m \u001B[38;5;28;01mfrom\u001B[39;00m \u001B[38;5;21;01mtorch\u001B[39;00m\u001B[38;5;21;01m.\u001B[39;00m\u001B[38;5;21;01mutils\u001B[39;00m\u001B[38;5;21;01m.\u001B[39;00m\u001B[38;5;21;01mdata\u001B[39;00m \u001B[38;5;28;01mimport\u001B[39;00m DataLoader\n\u001B[1;32m      3\u001B[0m data_loader \u001B[38;5;241m=\u001B[39m DataLoader(dataset, batch_size\u001B[38;5;241m=\u001B[39m\u001B[38;5;241m2\u001B[39m, num_workers\u001B[38;5;241m=\u001B[39m\u001B[38;5;241m0\u001B[39m)\n\u001B[0;32m----> 4\u001B[0m \u001B[38;5;28mlen\u001B[39m(\u001B[38;5;28mlist\u001B[39m(data_loader)), \u001B[38;5;28mlen\u001B[39m(data_loader)\n",
      "File \u001B[0;32m~/anaconda3/envs/realtime-piano-transcription/lib/python3.12/site-packages/torch/utils/data/dataloader.py:476\u001B[0m, in \u001B[0;36mDataLoader.__len__\u001B[0;34m(self)\u001B[0m\n\u001B[1;32m    458\u001B[0m \u001B[38;5;28;01mdef\u001B[39;00m \u001B[38;5;21m__len__\u001B[39m(\u001B[38;5;28mself\u001B[39m) \u001B[38;5;241m-\u001B[39m\u001B[38;5;241m>\u001B[39m \u001B[38;5;28mint\u001B[39m:\n\u001B[1;32m    459\u001B[0m     \u001B[38;5;28;01mif\u001B[39;00m \u001B[38;5;28mself\u001B[39m\u001B[38;5;241m.\u001B[39m_dataset_kind \u001B[38;5;241m==\u001B[39m _DatasetKind\u001B[38;5;241m.\u001B[39mIterable:\n\u001B[1;32m    460\u001B[0m         \u001B[38;5;66;03m# NOTE [ IterableDataset and __len__ ]\u001B[39;00m\n\u001B[1;32m    461\u001B[0m         \u001B[38;5;66;03m#\u001B[39;00m\n\u001B[0;32m   (...)\u001B[0m\n\u001B[1;32m    474\u001B[0m \n\u001B[1;32m    475\u001B[0m         \u001B[38;5;66;03m# Cannot statically verify that dataset is Sized\u001B[39;00m\n\u001B[0;32m--> 476\u001B[0m         length \u001B[38;5;241m=\u001B[39m \u001B[38;5;28mself\u001B[39m\u001B[38;5;241m.\u001B[39m_IterableDataset_len_called \u001B[38;5;241m=\u001B[39m \u001B[38;5;28mlen\u001B[39m(\u001B[38;5;28mself\u001B[39m\u001B[38;5;241m.\u001B[39mdataset)  \u001B[38;5;66;03m# type: ignore[assignment, arg-type]\u001B[39;00m\n\u001B[1;32m    477\u001B[0m         \u001B[38;5;28;01mif\u001B[39;00m \u001B[38;5;28mself\u001B[39m\u001B[38;5;241m.\u001B[39mbatch_size \u001B[38;5;129;01mis\u001B[39;00m \u001B[38;5;129;01mnot\u001B[39;00m \u001B[38;5;28;01mNone\u001B[39;00m:  \u001B[38;5;66;03m# IterableDataset doesn't allow custom sampler or batch_sampler\u001B[39;00m\n\u001B[1;32m    478\u001B[0m             \u001B[38;5;28;01mfrom\u001B[39;00m \u001B[38;5;21;01mmath\u001B[39;00m \u001B[38;5;28;01mimport\u001B[39;00m ceil\n",
      "\u001B[0;31mTypeError\u001B[0m: object of type 'TestDataset' has no len()"
     ]
    }
   ],
   "execution_count": 29
  }
 ],
 "metadata": {
  "kernelspec": {
   "display_name": "Python 3",
   "language": "python",
   "name": "python3"
  },
  "language_info": {
   "codemirror_mode": {
    "name": "ipython",
    "version": 2
   },
   "file_extension": ".py",
   "mimetype": "text/x-python",
   "name": "python",
   "nbconvert_exporter": "python",
   "pygments_lexer": "ipython2",
   "version": "2.7.6"
  }
 },
 "nbformat": 4,
 "nbformat_minor": 5
}
