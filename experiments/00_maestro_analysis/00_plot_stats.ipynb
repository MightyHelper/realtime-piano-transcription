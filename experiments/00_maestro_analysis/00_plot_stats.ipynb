{
 "cells": [
  {
   "metadata": {},
   "cell_type": "markdown",
   "source": "",
   "id": "8a77807f92f26ee"
  },
  {
   "metadata": {},
   "cell_type": "code",
   "source": [
    "import pandas as pd\n",
    "%load_ext autoreload\n",
    "%autoreload 2\n",
    "from matplotlib import pyplot as plt\n",
    "from src.common import MaestroDataset"
   ],
   "id": "fbc121e30a2defb3",
   "outputs": [],
   "execution_count": null
  },
  {
   "metadata": {},
   "cell_type": "code",
   "source": [
    "maestro_dataset = MaestroDataset()\n",
    "dataset = maestro_dataset.csv\n",
    "dataset.head()"
   ],
   "id": "22b267af12f678e0",
   "outputs": [],
   "execution_count": null
  },
  {
   "metadata": {},
   "cell_type": "code",
   "source": "list(dataset.columns)",
   "id": "e15309e4008a8c74",
   "outputs": [],
   "execution_count": null
  },
  {
   "metadata": {},
   "cell_type": "code",
   "source": [
    "print(f\"Total Titles : {len(dataset['canonical_title'].unique())}\")\n",
    "print(f\"Total Authors: {len(dataset['canonical_composer'].unique())}\")\n",
    "print(f\"Total Years  : {len(dataset['year'].unique())}\")"
   ],
   "id": "3e25b98089ce1191",
   "outputs": [],
   "execution_count": null
  },
  {
   "metadata": {},
   "cell_type": "code",
   "source": [
    "# Items per year\n",
    "by_year = dataset.groupby(['year']).size()\n",
    "by_year.plot(kind='bar', figsize=(15, 5))\n",
    "plt.show()"
   ],
   "id": "2bef55a0140ed987",
   "outputs": [],
   "execution_count": null
  },
  {
   "metadata": {},
   "cell_type": "code",
   "source": [
    "# Items by author\n",
    "by_author = dataset.groupby(['canonical_composer']).size()\n",
    "by_author = by_author.sort_values(ascending=False)\n",
    "by_author.plot(kind='bar', figsize=(15, 5))\n",
    "plt.show()"
   ],
   "id": "b5202de04f01e5e5",
   "outputs": [],
   "execution_count": null
  },
  {
   "metadata": {},
   "cell_type": "code",
   "source": [
    "# Items by split\n",
    "by_split = dataset.groupby(['split']).size()\n",
    "by_split.plot(kind='bar', figsize=(15, 5))\n",
    "plt.show()"
   ],
   "id": "89be6d4f3ef7aec7",
   "outputs": [],
   "execution_count": null
  },
  {
   "metadata": {},
   "cell_type": "code",
   "source": [
    "# Duration by split\n",
    "duration_by_split = dataset.groupby(['split'])['duration'].mean()\n",
    "duration_by_split.plot(kind='bar', figsize=(15, 5))\n",
    "plt.show()"
   ],
   "id": "b5b9672288f34e19",
   "outputs": [],
   "execution_count": null
  },
  {
   "metadata": {},
   "cell_type": "code",
   "source": [
    "item = maestro_dataset.load_index(0)\n",
    "audio = item.load_audio()\n",
    "print(audio.duration)\n",
    "audio.chunk(0, 10).plot_mel_spectrogram()"
   ],
   "id": "8468f1e1efd14d91",
   "outputs": [],
   "execution_count": null
  },
  {
   "metadata": {},
   "cell_type": "code",
   "source": [
    "midi = item.load_midi()\n",
    "print(midi.duration)\n",
    "midi.plot_piano_roll_chunk(0, 10)\n",
    "midi.save_piano_roll(MaestroDataset.SPLIT_ROOT)"
   ],
   "id": "e56616e68da89d44",
   "outputs": [],
   "execution_count": null
  },
  {
   "metadata": {},
   "cell_type": "code",
   "source": [
    "import numpy as np\n",
    "\n",
    "len(np.arange(0, 10, 10./313))"
   ],
   "id": "f6cd1389b8184217",
   "outputs": [],
   "execution_count": null
  },
  {
   "metadata": {},
   "cell_type": "code",
   "source": [
    "from IPython.lib.display import Audio\n",
    "\n",
    "#play audio in notebook\n",
    "# midi.midi\n",
    "Audio(audio.audio, rate=audio.rate)"
   ],
   "id": "cec9d48a5356f35a",
   "outputs": [],
   "execution_count": null
  },
  {
   "metadata": {},
   "cell_type": "code",
   "source": [
    "from multiprocessing import Pool\n",
    "from tqdm.auto import tqdm\n",
    "# Plot histogram of note usage across whole dataset\n",
    "data = np.ndarray([])\n",
    "maestro_items = [maestro_dataset.load_index(i) for i in tqdm(range(maestro_dataset.length()), total=maestro_dataset.length())]\n",
    "def load_midi(item):\n",
    "\treturn [note.pitch for note in item.load_midi().midi.instruments[0].notes]\n",
    "with Pool(32) as p:\n",
    "\tmaestro_midis = [item for key in tqdm(p.imap_unordered(load_midi, maestro_items), total=maestro_dataset.length()) for item in key]"
   ],
   "id": "a560e09e9e27aec",
   "outputs": [],
   "execution_count": null
  },
  {
   "metadata": {},
   "cell_type": "code",
   "source": [
    "# Get histogram of hist\n",
    "hist_x = np.histogram(maestro_midis, bins=range(129))[0]\n",
    "plt.bar(range(128), hist_x)\n",
    "plt.show()\n"
   ],
   "id": "ca524b2ff3547088",
   "outputs": [],
   "execution_count": null
  },
  {
   "metadata": {},
   "cell_type": "code",
   "source": [
    "print(f\"{hist_x.sum()} notes in total\")\n",
    "print(\"fLowest note: \", np.min(maestro_midis))\n",
    "print(\"Highest note: \", np.max(maestro_midis))\n",
    "print(\"Note spread: \", np.max(maestro_midis) - np.min(maestro_midis) + 1)"
   ],
   "id": "f0f365abc0f47882",
   "outputs": [],
   "execution_count": null
  }
 ],
 "metadata": {
  "kernelspec": {
   "display_name": "Python 3",
   "language": "python",
   "name": "python3"
  },
  "language_info": {
   "codemirror_mode": {
    "name": "ipython",
    "version": 2
   },
   "file_extension": ".py",
   "mimetype": "text/x-python",
   "name": "python",
   "nbconvert_exporter": "python",
   "pygments_lexer": "ipython2",
   "version": "2.7.6"
  }
 },
 "nbformat": 4,
 "nbformat_minor": 5
}
